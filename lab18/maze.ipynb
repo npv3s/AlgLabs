{
 "cells": [
  {
   "cell_type": "code",
   "execution_count": 5,
   "metadata": {
    "scrolled": true
   },
   "outputs": [
    {
     "name": "stdout",
     "output_type": "stream",
     "text": [
      "{{0, 1, 0, 0, 0, 0, 0, 0, 0},\n",
      "{0, 1, 0, 1, 1, 1, 1, 1, 0},\n",
      "{0, 1, 0, 1, 0, 0, 0, 1, 0},\n",
      "{0, 1, 0, 1, 0, 1, 0, 0, 0},\n",
      "{0, 1, 0, 1, 1, 1, 0, 1, 0},\n",
      "{0, 1, 0, 1, 1, 1, 0, 1, 0},\n",
      "{0, 1, 0, 1, 0, 1, 1, 1, 0},\n",
      "{0, 1, 0, 1, 0, 0, 0, 1, 0},\n",
      "{0, 1, 1, 1, 1, 1, 1, 1, 0},\n",
      "{0, 0, 0, 0, 0, 0, 0, 1, 0}};\n"
     ]
    }
   ],
   "source": [
    "#     0123456789\n",
    "m = ['N_NNNNNNN',\n",
    "     'N_N_____N',\n",
    "     'N_N_NNN_N',\n",
    "     'N_N_N_NNN',\n",
    "     'N_N___N_N',\n",
    "     'N_N___N_N',\n",
    "     'N_N_N___N',\n",
    "     'N_N_NNN_N',\n",
    "     'N_______N',\n",
    "     'NNNNNNN_N']\n",
    "\n",
    "def to_list(s):\n",
    "    out = []\n",
    "    for i in s:\n",
    "        if i == 'N':    out.append('0')\n",
    "        else:    out.append('1')\n",
    "    return '{' + ', '.join(out) + '}'\n",
    "\n",
    "print('{', ',\\n'.join(to_list(i) for i in m), '};', sep='')"
   ]
  }
 ],
 "metadata": {
  "kernelspec": {
   "display_name": "Python 3",
   "language": "python",
   "name": "python3"
  },
  "language_info": {
   "codemirror_mode": {
    "name": "ipython",
    "version": 3
   },
   "file_extension": ".py",
   "mimetype": "text/x-python",
   "name": "python",
   "nbconvert_exporter": "python",
   "pygments_lexer": "ipython3",
   "version": "3.6.8"
  }
 },
 "nbformat": 4,
 "nbformat_minor": 4
}
