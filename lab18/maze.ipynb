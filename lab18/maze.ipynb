{
 "cells": [
  {
   "cell_type": "code",
   "execution_count": 15,
   "metadata": {},
   "outputs": [
    {
     "name": "stdout",
     "output_type": "stream",
     "text": [
      "{{false, true, false, false, false, false, false, false, false, false, false, false},\n",
      "{false, true, false, true, true, true, true, true, false, true, true, false},\n",
      "{false, true, false, true, false, false, false, true, false, false, true, false},\n",
      "{false, true, false, true, true, true, false, true, true, true, true, false},\n",
      "{false, true, false, false, false, true, false, false, false, false, false, false},\n",
      "{false, true, false, true, true, true, false, true, false, true, true, false},\n",
      "{false, true, false, true, true, false, false, true, true, true, true, false},\n",
      "{false, true, false, true, true, true, false, true, false, false, true, false},\n",
      "{false, true, false, true, false, true, true, true, false, true, true, false},\n",
      "{false, true, false, false, false, false, false, true, false, true, false, false},\n",
      "{false, true, true, true, true, true, true, true, false, true, true, false},\n",
      "{false, false, false, false, false, false, false, false, false, false, true, false}};\n"
     ]
    }
   ],
   "source": [
    "#    0123456789012\n",
    "m = ['N_NNNNNNNNNN',\n",
    "     'N_N_____N__N',\n",
    "     'N_N_NNN_NN_N',\n",
    "     'N_N___N____N',\n",
    "     'N_NNN_NNNNNN',\n",
    "     'N_N___N_N__N',\n",
    "     'N_N__NN____N',\n",
    "     'N_N___N_NN_N',\n",
    "     'N_N_N___N__N',\n",
    "     'N_NNNNN_N_NN',\n",
    "     'N_______N__N',\n",
    "     'NNNNNNNNNN_N']\n",
    "\n",
    "def to_list(s):\n",
    "    out = []\n",
    "    for i in s:\n",
    "        if i == 'N':    out.append('false')\n",
    "        else:    out.append('true')\n",
    "    return '{' + ', '.join(out) + '}'\n",
    "\n",
    "print('{', ',\\n'.join(to_list(i) for i in m), '};', sep='')"
   ]
  }
 ],
 "metadata": {
  "kernelspec": {
   "display_name": "Python 3",
   "language": "python",
   "name": "python3"
  },
  "language_info": {
   "codemirror_mode": {
    "name": "ipython",
    "version": 3
   },
   "file_extension": ".py",
   "mimetype": "text/x-python",
   "name": "python",
   "nbconvert_exporter": "python",
   "pygments_lexer": "ipython3",
   "version": "3.6.8"
  }
 },
 "nbformat": 4,
 "nbformat_minor": 4
}
